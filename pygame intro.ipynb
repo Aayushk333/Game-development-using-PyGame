{
 "cells": [
  {
   "cell_type": "code",
   "execution_count": 1,
   "metadata": {},
   "outputs": [
    {
     "name": "stdout",
     "output_type": "stream",
     "text": [
      "pygame 2.0.0.dev4 (SDL 2.0.10, python 3.7.1)\n",
      "Hello from the pygame community. https://www.pygame.org/contribute.html\n"
     ]
    }
   ],
   "source": [
    "import pygame,sys,os\n",
    "from pygame.locals import *"
   ]
  },
  {
   "cell_type": "code",
   "execution_count": 2,
   "metadata": {},
   "outputs": [
    {
     "name": "stdout",
     "output_type": "stream",
     "text": [
      "<Event(4352-Unknown {})>\n",
      "<Event(4352-Unknown {})>\n",
      "<Event(4352-Unknown {})>\n",
      "<Event(4352-Unknown {})>\n",
      "<Event(4352-Unknown {})>\n",
      "<Event(4352-Unknown {})>\n",
      "<Event(32770-VideoExpose {})>\n",
      "<Event(32770-VideoExpose {})>\n",
      "<Event(32768-ActiveEvent {'gain': 1, 'state': 1, 'window': None})>\n",
      "<Event(32768-ActiveEvent {'gain': 1, 'state': 0, 'window': None})>\n",
      "<Event(1024-MouseMotion {'pos': (563, 94), 'rel': (0, 0), 'buttons': (0, 0, 0), 'window': None})>\n",
      "<Event(768-KeyDown {'unicode': '', 'key': 1073741905, 'mod': 0, 'scancode': 81, 'window': None})>\n",
      "<Event(769-KeyUp {'key': 1073741905, 'mod': 0, 'scancode': 81, 'window': None})>\n",
      "<Event(768-KeyDown {'unicode': '', 'key': 1073741905, 'mod': 0, 'scancode': 81, 'window': None})>\n",
      "<Event(769-KeyUp {'key': 1073741905, 'mod': 0, 'scancode': 81, 'window': None})>\n",
      "<Event(768-KeyDown {'unicode': '', 'key': 1073741904, 'mod': 0, 'scancode': 80, 'window': None})>\n",
      "<Event(769-KeyUp {'key': 1073741904, 'mod': 0, 'scancode': 80, 'window': None})>\n",
      "<Event(768-KeyDown {'unicode': '', 'key': 1073741904, 'mod': 0, 'scancode': 80, 'window': None})>\n",
      "<Event(769-KeyUp {'key': 1073741904, 'mod': 0, 'scancode': 80, 'window': None})>\n",
      "<Event(768-KeyDown {'unicode': '', 'key': 1073741906, 'mod': 0, 'scancode': 82, 'window': None})>\n",
      "<Event(769-KeyUp {'key': 1073741906, 'mod': 0, 'scancode': 82, 'window': None})>\n",
      "<Event(768-KeyDown {'unicode': '', 'key': 1073741906, 'mod': 0, 'scancode': 82, 'window': None})>\n",
      "<Event(769-KeyUp {'key': 1073741906, 'mod': 0, 'scancode': 82, 'window': None})>\n",
      "<Event(768-KeyDown {'unicode': '', 'key': 1073741903, 'mod': 0, 'scancode': 79, 'window': None})>\n",
      "<Event(769-KeyUp {'key': 1073741903, 'mod': 0, 'scancode': 79, 'window': None})>\n",
      "<Event(768-KeyDown {'unicode': '', 'key': 1073741903, 'mod': 0, 'scancode': 79, 'window': None})>\n",
      "<Event(769-KeyUp {'key': 1073741903, 'mod': 0, 'scancode': 79, 'window': None})>\n",
      "<Event(1025-MouseButtonDown {'pos': (563, 94), 'button': 1, 'window': None})>\n",
      "<Event(1026-MouseButtonUp {'pos': (563, 94), 'button': 1, 'window': None})>\n",
      "<Event(1025-MouseButtonDown {'pos': (563, 94), 'button': 1, 'window': None})>\n",
      "<Event(1026-MouseButtonUp {'pos': (563, 94), 'button': 1, 'window': None})>\n",
      "<Event(1025-MouseButtonDown {'pos': (563, 94), 'button': 3, 'window': None})>\n",
      "<Event(1026-MouseButtonUp {'pos': (563, 94), 'button': 3, 'window': None})>\n",
      "<Event(1025-MouseButtonDown {'pos': (563, 94), 'button': 3, 'window': None})>\n",
      "<Event(1026-MouseButtonUp {'pos': (563, 94), 'button': 3, 'window': None})>\n",
      "<Event(1024-MouseMotion {'pos': (566, 99), 'rel': (3, 5), 'buttons': (0, 0, 0), 'window': None})>\n",
      "<Event(1024-MouseMotion {'pos': (570, 108), 'rel': (4, 9), 'buttons': (0, 0, 0), 'window': None})>\n",
      "<Event(1024-MouseMotion {'pos': (571, 117), 'rel': (1, 9), 'buttons': (0, 0, 0), 'window': None})>\n",
      "<Event(1024-MouseMotion {'pos': (571, 136), 'rel': (0, 19), 'buttons': (0, 0, 0), 'window': None})>\n",
      "<Event(1024-MouseMotion {'pos': (559, 157), 'rel': (-12, 21), 'buttons': (0, 0, 0), 'window': None})>\n",
      "<Event(1024-MouseMotion {'pos': (513, 190), 'rel': (-46, 33), 'buttons': (0, 0, 0), 'window': None})>\n",
      "<Event(1024-MouseMotion {'pos': (471, 208), 'rel': (-42, 18), 'buttons': (0, 0, 0), 'window': None})>\n",
      "<Event(1024-MouseMotion {'pos': (440, 215), 'rel': (-31, 7), 'buttons': (0, 0, 0), 'window': None})>\n",
      "<Event(1024-MouseMotion {'pos': (402, 218), 'rel': (-38, 3), 'buttons': (0, 0, 0), 'window': None})>\n",
      "<Event(1024-MouseMotion {'pos': (375, 217), 'rel': (-27, -1), 'buttons': (0, 0, 0), 'window': None})>\n",
      "<Event(1024-MouseMotion {'pos': (355, 206), 'rel': (-20, -11), 'buttons': (0, 0, 0), 'window': None})>\n",
      "<Event(1024-MouseMotion {'pos': (341, 189), 'rel': (-14, -17), 'buttons': (0, 0, 0), 'window': None})>\n",
      "<Event(1024-MouseMotion {'pos': (335, 164), 'rel': (-6, -25), 'buttons': (0, 0, 0), 'window': None})>\n",
      "<Event(1024-MouseMotion {'pos': (335, 139), 'rel': (0, -25), 'buttons': (0, 0, 0), 'window': None})>\n",
      "<Event(1024-MouseMotion {'pos': (347, 108), 'rel': (12, -31), 'buttons': (0, 0, 0), 'window': None})>\n",
      "<Event(1024-MouseMotion {'pos': (363, 96), 'rel': (16, -12), 'buttons': (0, 0, 0), 'window': None})>\n",
      "<Event(1024-MouseMotion {'pos': (386, 88), 'rel': (23, -8), 'buttons': (0, 0, 0), 'window': None})>\n",
      "<Event(1024-MouseMotion {'pos': (423, 87), 'rel': (37, -1), 'buttons': (0, 0, 0), 'window': None})>\n",
      "<Event(1024-MouseMotion {'pos': (461, 99), 'rel': (38, 12), 'buttons': (0, 0, 0), 'window': None})>\n",
      "<Event(1024-MouseMotion {'pos': (481, 114), 'rel': (20, 15), 'buttons': (0, 0, 0), 'window': None})>\n",
      "<Event(1024-MouseMotion {'pos': (493, 129), 'rel': (12, 15), 'buttons': (0, 0, 0), 'window': None})>\n",
      "<Event(1024-MouseMotion {'pos': (503, 153), 'rel': (10, 24), 'buttons': (0, 0, 0), 'window': None})>\n",
      "<Event(1024-MouseMotion {'pos': (504, 169), 'rel': (1, 16), 'buttons': (0, 0, 0), 'window': None})>\n",
      "<Event(1024-MouseMotion {'pos': (501, 178), 'rel': (-3, 9), 'buttons': (0, 0, 0), 'window': None})>\n",
      "<Event(1024-MouseMotion {'pos': (494, 186), 'rel': (-7, 8), 'buttons': (0, 0, 0), 'window': None})>\n",
      "<Event(1024-MouseMotion {'pos': (488, 191), 'rel': (-6, 5), 'buttons': (0, 0, 0), 'window': None})>\n",
      "<Event(1024-MouseMotion {'pos': (485, 191), 'rel': (-3, 0), 'buttons': (0, 0, 0), 'window': None})>\n",
      "<Event(1024-MouseMotion {'pos': (480, 191), 'rel': (-5, 0), 'buttons': (0, 0, 0), 'window': None})>\n",
      "<Event(1024-MouseMotion {'pos': (479, 191), 'rel': (-1, 0), 'buttons': (0, 0, 0), 'window': None})>\n",
      "<Event(1024-MouseMotion {'pos': (479, 190), 'rel': (0, -1), 'buttons': (0, 0, 0), 'window': None})>\n",
      "<Event(1024-MouseMotion {'pos': (478, 184), 'rel': (-1, -6), 'buttons': (0, 0, 0), 'window': None})>\n",
      "<Event(32768-ActiveEvent {'gain': 0, 'state': 0, 'window': None})>\n",
      "<Event(32768-ActiveEvent {'gain': 0, 'state': 1, 'window': None})>\n",
      "<Event(32768-ActiveEvent {'gain': 1, 'state': 1, 'window': None})>\n",
      "<Event(32768-ActiveEvent {'gain': 1, 'state': 0, 'window': None})>\n",
      "<Event(1024-MouseMotion {'pos': (119, 305), 'rel': (0, 0), 'buttons': (0, 0, 0), 'window': None})>\n",
      "<Event(1024-MouseMotion {'pos': (95, 272), 'rel': (-24, -33), 'buttons': (0, 0, 0), 'window': None})>\n",
      "<Event(1024-MouseMotion {'pos': (74, 240), 'rel': (-21, -32), 'buttons': (0, 0, 0), 'window': None})>\n",
      "<Event(1024-MouseMotion {'pos': (66, 225), 'rel': (-8, -15), 'buttons': (0, 0, 0), 'window': None})>\n",
      "<Event(1024-MouseMotion {'pos': (41, 174), 'rel': (-25, -51), 'buttons': (0, 0, 0), 'window': None})>\n",
      "<Event(1024-MouseMotion {'pos': (31, 145), 'rel': (-10, -29), 'buttons': (0, 0, 0), 'window': None})>\n",
      "<Event(1024-MouseMotion {'pos': (26, 125), 'rel': (-5, -20), 'buttons': (0, 0, 0), 'window': None})>\n",
      "<Event(1024-MouseMotion {'pos': (22, 104), 'rel': (-4, -21), 'buttons': (0, 0, 0), 'window': None})>\n",
      "<Event(1024-MouseMotion {'pos': (20, 92), 'rel': (-2, -12), 'buttons': (0, 0, 0), 'window': None})>\n",
      "<Event(1024-MouseMotion {'pos': (19, 77), 'rel': (-1, -15), 'buttons': (0, 0, 0), 'window': None})>\n",
      "<Event(1024-MouseMotion {'pos': (18, 69), 'rel': (-1, -8), 'buttons': (0, 0, 0), 'window': None})>\n",
      "<Event(1024-MouseMotion {'pos': (17, 64), 'rel': (-1, -5), 'buttons': (0, 0, 0), 'window': None})>\n",
      "<Event(1024-MouseMotion {'pos': (17, 58), 'rel': (0, -6), 'buttons': (0, 0, 0), 'window': None})>\n",
      "<Event(1024-MouseMotion {'pos': (17, 54), 'rel': (0, -4), 'buttons': (0, 0, 0), 'window': None})>\n",
      "<Event(1024-MouseMotion {'pos': (17, 52), 'rel': (0, -2), 'buttons': (0, 0, 0), 'window': None})>\n",
      "<Event(1024-MouseMotion {'pos': (17, 51), 'rel': (0, -1), 'buttons': (0, 0, 0), 'window': None})>\n",
      "<Event(1024-MouseMotion {'pos': (17, 50), 'rel': (0, -1), 'buttons': (0, 0, 0), 'window': None})>\n",
      "<Event(1024-MouseMotion {'pos': (16, 49), 'rel': (-1, -1), 'buttons': (0, 0, 0), 'window': None})>\n",
      "<Event(1024-MouseMotion {'pos': (15, 46), 'rel': (-1, -3), 'buttons': (0, 0, 0), 'window': None})>\n",
      "<Event(1024-MouseMotion {'pos': (14, 44), 'rel': (-1, -2), 'buttons': (0, 0, 0), 'window': None})>\n",
      "<Event(1024-MouseMotion {'pos': (11, 37), 'rel': (-3, -7), 'buttons': (0, 0, 0), 'window': None})>\n",
      "<Event(1024-MouseMotion {'pos': (10, 29), 'rel': (-1, -8), 'buttons': (0, 0, 0), 'window': None})>\n",
      "<Event(1024-MouseMotion {'pos': (8, 20), 'rel': (-2, -9), 'buttons': (0, 0, 0), 'window': None})>\n",
      "<Event(1024-MouseMotion {'pos': (7, 14), 'rel': (-1, -6), 'buttons': (0, 0, 0), 'window': None})>\n",
      "<Event(1024-MouseMotion {'pos': (7, 9), 'rel': (0, -5), 'buttons': (0, 0, 0), 'window': None})>\n",
      "<Event(1024-MouseMotion {'pos': (7, 6), 'rel': (0, -3), 'buttons': (0, 0, 0), 'window': None})>\n",
      "<Event(1024-MouseMotion {'pos': (7, 5), 'rel': (0, -1), 'buttons': (0, 0, 0), 'window': None})>\n",
      "<Event(1024-MouseMotion {'pos': (7, 4), 'rel': (0, -1), 'buttons': (0, 0, 0), 'window': None})>\n",
      "<Event(1024-MouseMotion {'pos': (8, 3), 'rel': (1, -1), 'buttons': (0, 0, 0), 'window': None})>\n",
      "<Event(1024-MouseMotion {'pos': (9, 2), 'rel': (1, -1), 'buttons': (0, 0, 0), 'window': None})>\n",
      "<Event(1024-MouseMotion {'pos': (10, 1), 'rel': (1, -1), 'buttons': (0, 0, 0), 'window': None})>\n",
      "<Event(1024-MouseMotion {'pos': (11, 0), 'rel': (1, -1), 'buttons': (0, 0, 0), 'window': None})>\n",
      "<Event(1024-MouseMotion {'pos': (11, 0), 'rel': (0, -1), 'buttons': (0, 0, 0), 'window': None})>\n",
      "<Event(32768-ActiveEvent {'gain': 0, 'state': 0, 'window': None})>\n",
      "<Event(512-WindowEvent {'event': 14, 'window': None})>\n",
      "<Event(256-Quit {})>\n"
     ]
    },
    {
     "ename": "SystemExit",
     "evalue": "",
     "output_type": "error",
     "traceback": [
      "An exception has occurred, use %tb to see the full traceback.\n",
      "\u001b[0;31mSystemExit\u001b[0m\n"
     ]
    },
    {
     "name": "stderr",
     "output_type": "stream",
     "text": [
      "/Users/aayushkhurana/anaconda3/lib/python3.7/site-packages/IPython/core/interactiveshell.py:3275: UserWarning: To exit: use 'exit', 'quit', or Ctrl-D.\n",
      "  warn(\"To exit: use 'exit', 'quit', or Ctrl-D.\", stacklevel=1)\n"
     ]
    }
   ],
   "source": [
    "#red = [0,0,0]\n",
    "pygame.init()\n",
    "window = pygame.display.set_mode((1000,600))\n",
    "pygame.display.set_caption(\"Slither.eat - The Snake Game\")\n",
    "screen= pygame.display.get_surface()\n",
    "screen.fill((255,0,0))\n",
    "pygame.display.update()\n",
    "pygame.display.set_caption(\"Snake\")\n",
    "#pygame.display.flip()\n",
    "while True :\n",
    "    for event in pygame.event.get():\n",
    "        print(event)\n",
    "        if event.type == QUIT:\n",
    "            pygame.quit()\n",
    "            sys.exit()\n",
    "    pygame.display.update()\n"
   ]
  }
 ],
 "metadata": {
  "kernelspec": {
   "display_name": "Python 3",
   "language": "python",
   "name": "python3"
  },
  "language_info": {
   "codemirror_mode": {
    "name": "ipython",
    "version": 3
   },
   "file_extension": ".py",
   "mimetype": "text/x-python",
   "name": "python",
   "nbconvert_exporter": "python",
   "pygments_lexer": "ipython3",
   "version": "3.7.1"
  }
 },
 "nbformat": 4,
 "nbformat_minor": 2
}
