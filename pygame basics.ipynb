{
 "cells": [
  {
   "cell_type": "code",
   "execution_count": 1,
   "metadata": {},
   "outputs": [
    {
     "name": "stdout",
     "output_type": "stream",
     "text": [
      "pygame 2.0.0.dev4 (SDL 2.0.10, python 3.7.1)\n",
      "Hello from the pygame community. https://www.pygame.org/contribute.html\n"
     ]
    }
   ],
   "source": [
    "import pygame,sys,os\n",
    "from pygame.locals import *"
   ]
  },
  {
   "cell_type": "code",
   "execution_count": 2,
   "metadata": {},
   "outputs": [],
   "source": [
    "catx=10\n",
    "caty=10\n",
    "screen=0"
   ]
  },
  {
   "cell_type": "code",
   "execution_count": 3,
   "metadata": {},
   "outputs": [],
   "source": [
    "def myquit():\n",
    "    pygame.quit()\n",
    "    sys.exit(0)"
   ]
  },
  {
   "cell_type": "code",
   "execution_count": 4,
   "metadata": {},
   "outputs": [],
   "source": [
    "def check_inputs(events):\n",
    "    global catx,caty,screen\n",
    "    for event in events:\n",
    "        if event.type == QUIT:\n",
    "            myquit()\n",
    "        else :\n",
    "            if event.type == KEYDOWN:\n",
    "                if event.key == K_ESCAPE:\n",
    "                    myquit()\n",
    "                elif event.key == K_LEFT:\n",
    "                    catx = catx - 5\n",
    "                    print(\"Move rect left\")\n",
    "                elif event.key == K_RIGHT:\n",
    "                    catx = catx + 5\n",
    "                    print(\"Move rect right\")\n",
    "                else :\n",
    "                    print(event.key)\n",
    "    screen.fill((0,0,0))\n",
    "    pygame.draw.rect(screen, (255,255,255), (catx,100,20,20))\n",
    "    pygame.display.update()\n",
    "                "
   ]
  },
  {
   "cell_type": "code",
   "execution_count": 5,
   "metadata": {},
   "outputs": [],
   "source": [
    "def main():\n",
    "    global screen\n",
    "    pygame.init()\n",
    "    SCREEN_WIDTH = 600\n",
    "    SCREEN_HEIGHT = 480\n",
    "    window = pygame.display.set_mode((SCREEN_WIDTH, SCREEN_HEIGHT))\n",
    "    pygame.display.set_caption(\"Slither.eat - The Snake Game\")\n",
    "    screen = pygame.display.get_surface()\n",
    "    pygame.display.update()\n",
    "    \n",
    "    while True:\n",
    "        check_inputs(pygame.event.get())\n",
    "        "
   ]
  },
  {
   "cell_type": "code",
   "execution_count": 7,
   "metadata": {},
   "outputs": [
    {
     "name": "stdout",
     "output_type": "stream",
     "text": [
      "Move rect right\n",
      "Move rect right\n",
      "Move rect right\n",
      "Move rect right\n",
      "Move rect right\n",
      "Move rect right\n",
      "Move rect right\n",
      "Move rect right\n",
      "Move rect right\n",
      "Move rect right\n",
      "Move rect right\n",
      "Move rect right\n",
      "Move rect right\n",
      "Move rect right\n",
      "Move rect right\n",
      "Move rect right\n",
      "Move rect right\n",
      "Move rect left\n",
      "Move rect left\n"
     ]
    },
    {
     "ename": "SystemExit",
     "evalue": "0",
     "output_type": "error",
     "traceback": [
      "An exception has occurred, use %tb to see the full traceback.\n",
      "\u001b[0;31mSystemExit\u001b[0m\u001b[0;31m:\u001b[0m 0\n"
     ]
    },
    {
     "name": "stderr",
     "output_type": "stream",
     "text": [
      "/Users/aayushkhurana/anaconda3/lib/python3.7/site-packages/IPython/core/interactiveshell.py:3275: UserWarning: To exit: use 'exit', 'quit', or Ctrl-D.\n",
      "  warn(\"To exit: use 'exit', 'quit', or Ctrl-D.\", stacklevel=1)\n"
     ]
    }
   ],
   "source": [
    "main()"
   ]
  },
  {
   "cell_type": "code",
   "execution_count": null,
   "metadata": {},
   "outputs": [],
   "source": []
  }
 ],
 "metadata": {
  "kernelspec": {
   "display_name": "Python 3",
   "language": "python",
   "name": "python3"
  },
  "language_info": {
   "codemirror_mode": {
    "name": "ipython",
    "version": 3
   },
   "file_extension": ".py",
   "mimetype": "text/x-python",
   "name": "python",
   "nbconvert_exporter": "python",
   "pygments_lexer": "ipython3",
   "version": "3.7.1"
  }
 },
 "nbformat": 4,
 "nbformat_minor": 2
}
