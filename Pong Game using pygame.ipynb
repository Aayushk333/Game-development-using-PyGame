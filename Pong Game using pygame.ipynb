{
 "cells": [
  {
   "cell_type": "code",
   "execution_count": 1,
   "metadata": {},
   "outputs": [
    {
     "name": "stdout",
     "output_type": "stream",
     "text": [
      "pygame 2.0.0.dev4 (SDL 2.0.10, python 3.7.1)\n",
      "Hello from the pygame community. https://www.pygame.org/contribute.html\n"
     ]
    }
   ],
   "source": [
    "import pygame,sys,os\n",
    "import time\n",
    "import random\n",
    "from pygame.locals import *"
   ]
  },
  {
   "cell_type": "code",
   "execution_count": 8,
   "metadata": {},
   "outputs": [],
   "source": [
    "WHITE=(255,255,255)\n",
    "BLACK=(100,0,0)\n",
    "RED=(255,0,0)\n",
    "GREEN = (0,255,0)\n",
    "BLUE = (0,0,255)\n",
    "window_width=800\n",
    "window_height=600"
   ]
  },
  {
   "cell_type": "code",
   "execution_count": 3,
   "metadata": {},
   "outputs": [],
   "source": [
    "def myquit():\n",
    "    pygame.quit()\n",
    "    sys.exit(0)\n",
    "    "
   ]
  },
  {
   "cell_type": "code",
   "execution_count": 4,
   "metadata": {},
   "outputs": [],
   "source": [
    "pygame.init()\n",
    "screen = pygame.display.set_mode((window_width,window_height))\n",
    "pygame.display.set_caption('pong game')\n",
    "pygame.display.update()"
   ]
  },
  {
   "cell_type": "code",
   "execution_count": 10,
   "metadata": {},
   "outputs": [],
   "source": [
    "#Starting cooredinates of the paddle\n",
    "rect_x = 400\n",
    "rect_y = 580\n",
    "#Initial speed of the paddle\n",
    "rect_change_x = 0\n",
    "rect_change_y = 0\n",
    "#Initial position of the ball\n",
    "ball_x = 50\n",
    "ball_y = 50\n",
    "#Initial speed of the ball \n",
    "ball_change_x = 5\n",
    "ball_change_y = 5\n",
    "\n",
    "score = 0\n"
   ]
  },
  {
   "cell_type": "code",
   "execution_count": 11,
   "metadata": {},
   "outputs": [],
   "source": [
    "#draws the paddle and restricts its movement between the edges of the window \n",
    "def drawrect(screen,x,y) : \n",
    "    if x <= 0 :\n",
    "        x = 0\n",
    "    if x >= 699 : \n",
    "        x = 699\n",
    "    pygame.draw.rect(screen, RED, [x,y,100,20])"
   ]
  },
  {
   "cell_type": "code",
   "execution_count": 12,
   "metadata": {},
   "outputs": [],
   "source": [
    "done = False\n",
    "clock = pygame.time.Clock()\n",
    "while not done:\n",
    "    for event in pygame.event.get():\n",
    "        if event.type == pygame.QUIT:\n",
    "            done = True\n",
    "            \n",
    "        elif event.type == pygame.KEYDOWN:\n",
    "            if event.key == pygame.K_LEFT:\n",
    "                rect_change_x = -6\n",
    "            if event.key == pygame.K_RIGHT:\n",
    "                rect_change_x = 6\n",
    "                \n",
    "    screen.fill(BLACK)\n",
    "    rect_x += rect_change_x\n",
    "    rect_y += rect_change_y\n",
    "    \n",
    "    ball_x += ball_change_x\n",
    "    ball_y += ball_change_y\n",
    "    \n",
    "    #This handles the movement of the ball\n",
    "    \n",
    "    if ball_x<0:\n",
    "        ball_x=0\n",
    "        ball_change_x = -1*ball_change_x \n",
    "    elif ball_x>785:\n",
    "        ball_x=785\n",
    "        ball_change_x = -1*ball_change_x \n",
    "    elif ball_y<0:\n",
    "        ball_y=0\n",
    "        ball_change_y = -1*ball_change_y\n",
    "    elif ball_y>600:\n",
    "        ball_y=600\n",
    "        ball_change_y = -1*ball_change_y\n",
    "        score=0\n",
    "    elif ball_x>rect_x and ball_x<rect_x+100 and ball_y==565:\n",
    "        ball_change_y = -1*ball_change_y\n",
    "        score += 1\n",
    "        \n",
    "    pygame.draw.rect(screen, WHITE, [ball_x, ball_y, 15, 15])\n",
    "    \n",
    "    drawrect(screen, rect_x, rect_y)\n",
    "    \n",
    "    font = pygame.font.SysFont('Calibri', 15, False, False)\n",
    "    text = font.render(\"Score = \"+ str(score), True, WHITE)\n",
    "    screen.blit(text,[600,100])\n",
    "    \n",
    "    pygame.display.flip()\n",
    "    clock.tick(60)\n",
    "    \n",
    "pygame.quit()\n",
    "        \n",
    "            \n",
    "                \n",
    "            \n",
    "            \n",
    "    "
   ]
  },
  {
   "cell_type": "code",
   "execution_count": null,
   "metadata": {},
   "outputs": [],
   "source": []
  }
 ],
 "metadata": {
  "kernelspec": {
   "display_name": "Python 3",
   "language": "python",
   "name": "python3"
  },
  "language_info": {
   "codemirror_mode": {
    "name": "ipython",
    "version": 3
   },
   "file_extension": ".py",
   "mimetype": "text/x-python",
   "name": "python",
   "nbconvert_exporter": "python",
   "pygments_lexer": "ipython3",
   "version": "3.7.1"
  }
 },
 "nbformat": 4,
 "nbformat_minor": 2
}
